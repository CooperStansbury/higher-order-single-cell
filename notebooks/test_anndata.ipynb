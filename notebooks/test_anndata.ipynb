{
 "cells": [
  {
   "cell_type": "code",
   "execution_count": 1,
   "id": "2df488db-dcc1-4f70-b626-1609e7e6a1ac",
   "metadata": {},
   "outputs": [],
   "source": [
    "import os\n",
    "import sys\n",
    "import pandas as pd\n",
    "import numpy as np\n",
    "import glob\n",
    "import time\n",
    "from scipy.sparse import csr_matrix\n",
    "import anndata as an\n",
    "import scanpy as sc\n",
    "import pyranges as pr\n",
    "import psutil\n",
    "\n",
    "# import the script\n",
    "source_path = os.path.abspath(\"../scripts/\")\n",
    "sys.path.append(source_path)\n",
    "import make_anndata as mk"
   ]
  },
  {
   "cell_type": "code",
   "execution_count": 2,
   "id": "a82e0531-8c51-4004-a59d-61736a668adc",
   "metadata": {},
   "outputs": [],
   "source": [
    "pore_c_path = \"/scratch/indikar_root/indikar1/shared_data/higher_order/pore_c/population_mESC.read_level.parquet\"\n",
    "resolution = 1000000\n",
    "chrom_path = \"/scratch/indikar_root/indikar1/shared_data/higher_order/reference/chrom_sizes.csv\"\n",
    "gene_path = \"/scratch/indikar_root/indikar1/shared_data/higher_order/reference/gene_table.parquet\""
   ]
  },
  {
   "cell_type": "code",
   "execution_count": 3,
   "id": "a9a804b4-fdd1-4946-ab20-fbf39c5d47c7",
   "metadata": {},
   "outputs": [
    {
     "name": "stdout",
     "output_type": "stream",
     "text": [
      "------------------------------------------------------------\n",
      "------------------- Loading Pore-C Data --------------------\n",
      "------------------------------------------------------------\n",
      "Pore-C data shape:                  (14877807, 13)\n",
      "RAM usage at step 'Load Pore-C data': 2.44 GB\n"
     ]
    }
   ],
   "source": [
    "# Load the Pore-C data\n",
    "mk.print_section_header(\"Loading Pore-C Data\")\n",
    "df = pd.read_parquet(pore_c_path)\n",
    "df['value'] = 1\n",
    "mk.print_data_shape(\"Pore-C data\", df.shape)\n",
    "mk.print_memory_usage(\"Load Pore-C data\")\n",
    "\n",
    "n = df.shape[0]"
   ]
  },
  {
   "cell_type": "code",
   "execution_count": 4,
   "id": "a24bb66e-4599-426c-b2ad-f42ac0874e3b",
   "metadata": {},
   "outputs": [
    {
     "name": "stdout",
     "output_type": "stream",
     "text": [
      "------------------------------------------------------------\n",
      "-------------- Creating Chromosome Intervals ---------------\n",
      "------------------------------------------------------------\n",
      "intervals.shape=(2642, 6)\n",
      "Chromosome intervals shape:         (2642, 6)\n"
     ]
    }
   ],
   "source": [
    "# Load the chromosome table\n",
    "mk.print_section_header(\"Creating Chromosome Intervals\")\n",
    "chrom, intervals = mk.create_chromosome_intervals(chrom_path, base_resolution=resolution)\n",
    "mk.print_data_shape(\"Chromosome intervals\", intervals.shape)"
   ]
  },
  {
   "cell_type": "code",
   "execution_count": 5,
   "id": "8bcb7831-a145-48e6-9127-eff107c5661d",
   "metadata": {},
   "outputs": [
    {
     "data": {
      "text/html": [
       "<div>\n",
       "<style scoped>\n",
       "    .dataframe tbody tr th:only-of-type {\n",
       "        vertical-align: middle;\n",
       "    }\n",
       "\n",
       "    .dataframe tbody tr th {\n",
       "        vertical-align: top;\n",
       "    }\n",
       "\n",
       "    .dataframe thead th {\n",
       "        text-align: right;\n",
       "    }\n",
       "</style>\n",
       "<table border=\"1\" class=\"dataframe\">\n",
       "  <thead>\n",
       "    <tr style=\"text-align: right;\">\n",
       "      <th></th>\n",
       "      <th>chrom</th>\n",
       "      <th>start</th>\n",
       "      <th>end</th>\n",
       "      <th>bin</th>\n",
       "      <th>chrom_bin</th>\n",
       "      <th>bin_name</th>\n",
       "    </tr>\n",
       "  </thead>\n",
       "  <tbody>\n",
       "    <tr>\n",
       "      <th>196</th>\n",
       "      <td>2</td>\n",
       "      <td>0</td>\n",
       "      <td>1000000</td>\n",
       "      <td>196</td>\n",
       "      <td>0</td>\n",
       "      <td>chr2:0</td>\n",
       "    </tr>\n",
       "    <tr>\n",
       "      <th>197</th>\n",
       "      <td>2</td>\n",
       "      <td>1000000</td>\n",
       "      <td>2000000</td>\n",
       "      <td>197</td>\n",
       "      <td>1</td>\n",
       "      <td>chr2:1</td>\n",
       "    </tr>\n",
       "    <tr>\n",
       "      <th>198</th>\n",
       "      <td>2</td>\n",
       "      <td>2000000</td>\n",
       "      <td>3000000</td>\n",
       "      <td>198</td>\n",
       "      <td>2</td>\n",
       "      <td>chr2:2</td>\n",
       "    </tr>\n",
       "    <tr>\n",
       "      <th>199</th>\n",
       "      <td>2</td>\n",
       "      <td>3000000</td>\n",
       "      <td>4000000</td>\n",
       "      <td>199</td>\n",
       "      <td>3</td>\n",
       "      <td>chr2:3</td>\n",
       "    </tr>\n",
       "    <tr>\n",
       "      <th>200</th>\n",
       "      <td>2</td>\n",
       "      <td>4000000</td>\n",
       "      <td>5000000</td>\n",
       "      <td>200</td>\n",
       "      <td>4</td>\n",
       "      <td>chr2:4</td>\n",
       "    </tr>\n",
       "  </tbody>\n",
       "</table>\n",
       "</div>"
      ],
      "text/plain": [
       "    chrom    start      end  bin  chrom_bin bin_name\n",
       "196     2        0  1000000  196          0   chr2:0\n",
       "197     2  1000000  2000000  197          1   chr2:1\n",
       "198     2  2000000  3000000  198          2   chr2:2\n",
       "199     2  3000000  4000000  199          3   chr2:3\n",
       "200     2  4000000  5000000  200          4   chr2:4"
      ]
     },
     "execution_count": 5,
     "metadata": {},
     "output_type": "execute_result"
    }
   ],
   "source": [
    "intervals[intervals['chrom'] == '2'].head()"
   ]
  },
  {
   "cell_type": "code",
   "execution_count": null,
   "id": "6735f59a-6dac-4098-80ec-1a27b1dbf49e",
   "metadata": {},
   "outputs": [],
   "source": [
    "def merge_genes(df, gene_path):\n",
    "    \"\"\"Merges a DataFrame with gene information from a Parquet file.\n",
    "\n",
    "    Args:\n",
    "      df: DataFrame with columns 'chrom', 'ref_start', and 'ref_end'.\n",
    "      gene_path: Path to the Parquet file containing gene data.\n",
    "\n",
    "    Returns:\n",
    "      A DataFrame with merged gene information.\n",
    "    \"\"\"\n",
    "    gdf = pd.read_parquet(gene_path)\n",
    "\n",
    "    # Convert DataFrames to PyRanges for efficient interval joining\n",
    "    gdf_pr = pr.PyRanges(gdf)\n",
    "    df_pr = pr.PyRanges(df.rename(columns={\n",
    "        'chrom': 'Chromosome',\n",
    "        'ref_start': 'Start',\n",
    "        'ref_end': 'End',\n",
    "    }))\n",
    "\n",
    "    # Perform the join operation with specified parameters\n",
    "    df = df_pr.join(\n",
    "        gdf_pr,\n",
    "        strandedness=None,\n",
    "        how='left',\n",
    "        report_overlap=True,\n",
    "    ).df.rename(columns={\n",
    "        'Chromosome': 'chrom',\n",
    "        'Start': 'ref_start',\n",
    "        'End': 'ref_end',\n",
    "        'Start_b': 'gene_start',\n",
    "        'End_b': 'gene_end',\n",
    "        'length': 'gene_length',\n",
    "        'Overlap': 'overlap',\n",
    "    })\n",
    "\n",
    "    # take only the best overlap - since there are overlapping genes \n",
    "    df = df.sort_values(by='overlap', ascending=False)\n",
    "    df = df.drop_duplicates(subset=['read_name', 'read_start', 'ref_start', 'basename'], keep='first')\n",
    "\n",
    "    # Ensure correct data types\n",
    "    df['is_tf'] = df['is_tf'].astype(bool)\n",
    "    df['is_pt_gene'] = (df['gene_biotype'] == 'protein_coding')\n",
    "    return df\n",
    "\n",
    "df = merge_genes(df, gene_path)\n",
    "print(f\"{df.shape=}\")\n",
    "df.head()"
   ]
  },
  {
   "cell_type": "code",
   "execution_count": null,
   "id": "62473f0e-8184-46de-bf7a-6c397f74e1e0",
   "metadata": {},
   "outputs": [],
   "source": [
    "n - df.shape[0]"
   ]
  },
  {
   "cell_type": "code",
   "execution_count": null,
   "id": "012b9909-1bc3-4889-b905-291a492c41cb",
   "metadata": {},
   "outputs": [],
   "source": [
    "break"
   ]
  },
  {
   "cell_type": "code",
   "execution_count": null,
   "id": "683ceb57-9d3b-4aa8-bd3a-17ac0029713d",
   "metadata": {},
   "outputs": [],
   "source": []
  },
  {
   "cell_type": "code",
   "execution_count": null,
   "id": "78a80826-919b-45ec-8194-41b3be8a1588",
   "metadata": {},
   "outputs": [],
   "source": []
  },
  {
   "cell_type": "code",
   "execution_count": null,
   "id": "f7dd8777-8fe7-4b3f-be52-a11cd1df1a17",
   "metadata": {},
   "outputs": [],
   "source": []
  },
  {
   "cell_type": "code",
   "execution_count": null,
   "id": "f1fbc7d4-6c81-4c4a-b780-4f059f5fcdbb",
   "metadata": {},
   "outputs": [],
   "source": []
  },
  {
   "cell_type": "code",
   "execution_count": null,
   "id": "a894d735-2775-461f-a8f3-1fd21b972c83",
   "metadata": {},
   "outputs": [],
   "source": [
    "break"
   ]
  },
  {
   "cell_type": "code",
   "execution_count": null,
   "id": "2f345b00-5a87-4efa-9572-2de95f90f162",
   "metadata": {},
   "outputs": [],
   "source": [
    "df.columns"
   ]
  },
  {
   "cell_type": "code",
   "execution_count": null,
   "id": "322045b4-0a86-4ccf-836a-e61dba2085eb",
   "metadata": {},
   "outputs": [],
   "source": [
    "df['duplicate_maps'] = df.groupby(['read_name', 'read_start'])['gene_name'].transform('nunique')\n",
    "test = df[df['duplicate_maps'] > 1]\n",
    "test = test.sort_values(by=['read_name', 'ref_start'])\n",
    "print(f\"{test.shape=}\")\n",
    "test[['read_name', 'read_start', 'ref_start', 'chrom', 'gene_name', 'gene_biotype', 'gene_start']].head()"
   ]
  },
  {
   "cell_type": "code",
   "execution_count": null,
   "id": "1c82465d-4755-48a4-8ee3-3c92a4ed7169",
   "metadata": {},
   "outputs": [],
   "source": []
  },
  {
   "cell_type": "code",
   "execution_count": null,
   "id": "3f82a99c-83fe-4cb5-bcc0-3f5d78bd3440",
   "metadata": {},
   "outputs": [],
   "source": [
    "break"
   ]
  },
  {
   "cell_type": "code",
   "execution_count": null,
   "id": "e1b42c83-07ad-4bc3-b5d0-19417cd77bed",
   "metadata": {},
   "outputs": [],
   "source": [
    "df['gene_name'].value_counts()"
   ]
  },
  {
   "cell_type": "code",
   "execution_count": null,
   "id": "0a44c732-9b49-414a-8d8b-96e127b42abb",
   "metadata": {},
   "outputs": [],
   "source": [
    "df['read_name'].value_counts()"
   ]
  },
  {
   "cell_type": "code",
   "execution_count": null,
   "id": "402519d7-ac56-491d-8ca6-6d8bd13d4721",
   "metadata": {},
   "outputs": [],
   "source": []
  },
  {
   "cell_type": "code",
   "execution_count": null,
   "id": "01aae936-bdc3-4234-bd0e-49b6ed79f085",
   "metadata": {},
   "outputs": [],
   "source": []
  },
  {
   "cell_type": "code",
   "execution_count": null,
   "id": "fab9b082-f528-40b2-9bcb-2e8dd3e39242",
   "metadata": {},
   "outputs": [],
   "source": [
    "gdf = pd.read_parquet(gene_path)\n",
    "print(f\"{gdf.shape=}\")\n",
    "gdf.head()\n",
    "\n",
    "# gdf_pr = pr.PyRanges(gdf)\n"
   ]
  },
  {
   "cell_type": "code",
   "execution_count": null,
   "id": "482afa93-cbee-4b02-9971-d3a0469df79d",
   "metadata": {},
   "outputs": [],
   "source": [
    "df.head()"
   ]
  },
  {
   "cell_type": "code",
   "execution_count": null,
   "id": "0a765821-5e5c-4d6f-8af7-a94d1b9859f1",
   "metadata": {},
   "outputs": [],
   "source": []
  }
 ],
 "metadata": {
  "kernelspec": {
   "display_name": "scanpy",
   "language": "python",
   "name": "scanpy"
  },
  "language_info": {
   "codemirror_mode": {
    "name": "ipython",
    "version": 3
   },
   "file_extension": ".py",
   "mimetype": "text/x-python",
   "name": "python",
   "nbconvert_exporter": "python",
   "pygments_lexer": "ipython3",
   "version": "3.12.5"
  }
 },
 "nbformat": 4,
 "nbformat_minor": 5
}
