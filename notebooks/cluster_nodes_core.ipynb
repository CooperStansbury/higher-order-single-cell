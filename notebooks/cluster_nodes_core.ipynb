{
 "cells": [
  {
   "cell_type": "code",
   "execution_count": 1,
   "id": "00fcb7d5-722b-4c64-b50f-05715012990d",
   "metadata": {},
   "outputs": [],
   "source": [
    "import os\n",
    "import sys\n",
    "import pandas as pd\n",
    "import numpy as np\n",
    "import glob\n",
    "import time\n",
    "import gget\n",
    "import scipy\n",
    "from scipy.sparse import csr_matrix\n",
    "import anndata as an\n",
    "import scanpy as sc\n",
    "import matplotlib.pyplot as plt\n",
    "import seaborn as sns\n",
    "import networkx as nx\n",
    "import random\n",
    "from importlib import reload\n",
    "import warnings\n",
    "import ot\n",
    "from scipy.spatial.distance import pdist, squareform\n",
    "\n",
    "from sklearn.decomposition import TruncatedSVD\n",
    "from sklearn.preprocessing import MinMaxScaler\n",
    "\n",
    "\"\"\"WARNING: no warnings\"\"\"\n",
    "warnings.filterwarnings(\"ignore\")\n",
    "\n",
    "# local imports\n",
    "import anndata_utils as anntools\n",
    "\n",
    "source_path = os.path.abspath(\"../source/\")\n",
    "sys.path.append(source_path)\n",
    "import centrality as central\n",
    "import matrix\n",
    "import utils as ut\n",
    "import plotting as plt2"
   ]
  },
  {
   "cell_type": "markdown",
   "id": "4ba92440-1dcf-4e16-a62d-379164f4efba",
   "metadata": {},
   "source": [
    "# Load data"
   ]
  },
  {
   "cell_type": "code",
   "execution_count": 2,
   "id": "de59c652-2309-470a-a7c8-4b223f100dc0",
   "metadata": {},
   "outputs": [
    {
     "name": "stdout",
     "output_type": "stream",
     "text": [
      "Time taken to read the file: 90.61 seconds\n",
      "Memory usage: current 1.79 GB, difference +1.79 GB\n"
     ]
    },
    {
     "data": {
      "text/plain": [
       "AnnData object with n_obs × n_vars = 25681 × 2756467\n",
       "    obs: 'bin_index', 'bin_start', 'bin_end', 'bin', 'chrom', 'chrom_bin', 'degree', 'genes', 'n_genes', 'ATACSeq_1', 'ATACSeq_2', 'ATACSeq_3', 'CTCF', 'H3K27ac', 'H3K27me3', 'RNA_1', 'RNA_2', 'RNA_3', 'RNA_4', 'RNA_5', 'RNA_6'\n",
       "    var: 'read_index', 'basename', 'mean_mapq', 'median_mapq', 'n_chromosomes', 'order', 'n_bins', 'read_length_bp', 'genes', 'n_genes'\n",
       "    uns: 'base_resolution', 'chrom_sizes', 'intervals'\n",
       "    layers: 'H'"
      ]
     },
     "execution_count": 2,
     "metadata": {},
     "output_type": "execute_result"
    }
   ],
   "source": [
    "population_path = \"/scratch/indikar_root/indikar1/shared_data/higher_order/anndata/population_mESC_100000_features.h5ad\"\n",
    "start_time = time.time()  # Record the start time\n",
    "adata = sc.read_h5ad(population_path)\n",
    "end_time = time.time()  # Record the end time\n",
    "print(f\"Time taken to read the file: {end_time - start_time:.2f} seconds\")\n",
    "# free up some memory\n",
    "del adata.uns['gene_map']\n",
    "del adata.uns['gdf']\n",
    "sc.logging.print_memory_usage()\n",
    "adata"
   ]
  },
  {
   "cell_type": "markdown",
   "id": "4b22c3ed-c7e6-4a63-83f4-9474ae8f7134",
   "metadata": {},
   "source": [
    "# QC"
   ]
  },
  {
   "cell_type": "code",
   "execution_count": 3,
   "id": "0abfbab5-daa0-433c-9c81-8ddc33662bc5",
   "metadata": {},
   "outputs": [
    {
     "name": "stdout",
     "output_type": "stream",
     "text": [
      "(423, 3)\n"
     ]
    },
    {
     "data": {
      "text/html": [
       "<div>\n",
       "<style scoped>\n",
       "    .dataframe tbody tr th:only-of-type {\n",
       "        vertical-align: middle;\n",
       "    }\n",
       "\n",
       "    .dataframe tbody tr th {\n",
       "        vertical-align: top;\n",
       "    }\n",
       "\n",
       "    .dataframe thead th {\n",
       "        text-align: right;\n",
       "    }\n",
       "</style>\n",
       "<table border=\"1\" class=\"dataframe\">\n",
       "  <thead>\n",
       "    <tr style=\"text-align: right;\">\n",
       "      <th></th>\n",
       "      <th>bin</th>\n",
       "      <th>degree</th>\n",
       "      <th>outlier</th>\n",
       "    </tr>\n",
       "    <tr>\n",
       "      <th>bin_name</th>\n",
       "      <th></th>\n",
       "      <th></th>\n",
       "      <th></th>\n",
       "    </tr>\n",
       "  </thead>\n",
       "  <tbody>\n",
       "    <tr>\n",
       "      <th>chr8:212</th>\n",
       "      <td>11613</td>\n",
       "      <td>1039</td>\n",
       "      <td>True</td>\n",
       "    </tr>\n",
       "    <tr>\n",
       "      <th>chr10:579</th>\n",
       "      <td>14526</td>\n",
       "      <td>832</td>\n",
       "      <td>True</td>\n",
       "    </tr>\n",
       "    <tr>\n",
       "      <th>chrX:1399</th>\n",
       "      <td>26032</td>\n",
       "      <td>144</td>\n",
       "      <td>True</td>\n",
       "    </tr>\n",
       "    <tr>\n",
       "      <th>chrX:1232</th>\n",
       "      <td>25865</td>\n",
       "      <td>96</td>\n",
       "      <td>True</td>\n",
       "    </tr>\n",
       "    <tr>\n",
       "      <th>chrX:1233</th>\n",
       "      <td>25866</td>\n",
       "      <td>71</td>\n",
       "      <td>True</td>\n",
       "    </tr>\n",
       "  </tbody>\n",
       "</table>\n",
       "</div>"
      ],
      "text/plain": [
       "             bin  degree  outlier\n",
       "bin_name                         \n",
       "chr8:212   11613    1039     True\n",
       "chr10:579  14526     832     True\n",
       "chrX:1399  26032     144     True\n",
       "chrX:1232  25865      96     True\n",
       "chrX:1233  25866      71     True"
      ]
     },
     "execution_count": 3,
     "metadata": {},
     "output_type": "execute_result"
    }
   ],
   "source": [
    "def find_outliers_iqr(df_column):\n",
    "  \"\"\"\n",
    "  Identifies outliers in a pandas DataFrame column using the IQR method.\n",
    "\n",
    "  Args:\n",
    "    df_column: A pandas Series representing the column to analyze.\n",
    "\n",
    "  Returns:\n",
    "    A boolean mask with True for outliers and False otherwise.\n",
    "  \"\"\"\n",
    "  Q1 = df_column.quantile(0.15)\n",
    "  Q3 = df_column.quantile(0.85)\n",
    "  IQR = Q3 - Q1\n",
    "  lower_bound = Q1 - 1.5 * IQR\n",
    "  upper_bound = Q3 + 1.5 * IQR\n",
    "  return (df_column < lower_bound) | (df_column > upper_bound)\n",
    "\n",
    "adata.obs['outlier'] = find_outliers_iqr(adata.obs['degree'])\n",
    "\n",
    "print(adata.obs[adata.obs['outlier']][['bin', 'degree', 'outlier']].shape)\n",
    "adata.obs[adata.obs['outlier']][['bin', 'degree', 'outlier']].head()"
   ]
  },
  {
   "cell_type": "code",
   "execution_count": 4,
   "id": "962c80be-7956-41fc-be9d-37f444f2e704",
   "metadata": {},
   "outputs": [
    {
     "name": "stdout",
     "output_type": "stream",
     "text": [
      "Removing top 423 outlier loci: \n",
      "['chr8:212', 'chr10:579', 'chrX:1399', 'chrX:1232', 'chrX:1233', 'chrX:1239', 'chr8:201', 'chrX:1241', 'chr18:31', 'chr8:211']\n",
      "done!\n"
     ]
    }
   ],
   "source": [
    "# remove outliers\n",
    "remove_bins = adata.obs[adata.obs['outlier']].index.to_list()\n",
    "print(f\"Removing top {len(remove_bins)} outlier loci: \")\n",
    "print(remove_bins[:10])\n",
    "\n",
    "adata = adata[~adata.obs_names.isin(remove_bins), :].copy()\n",
    "\n",
    "print('done!')"
   ]
  },
  {
   "cell_type": "markdown",
   "id": "baa52951-34e4-4435-8f5b-afb251919c27",
   "metadata": {},
   "source": [
    "# Add features"
   ]
  },
  {
   "cell_type": "code",
   "execution_count": null,
   "id": "f7017c2c-9cfe-4f7d-b3e8-2567c6b24a81",
   "metadata": {},
   "outputs": [],
   "source": [
    "# add the principal singular value of the incidence matrix\n",
    "H = adata.to_df().copy()\n",
    "print(f\"Raw: {H.shape=}\")\n",
    "H = H.T.drop_duplicates().T\n",
    "print(f\"De-duped: {H.shape=}\")\n",
    "\n",
    "svd = TruncatedSVD(n_components=1, n_iter=10)\n",
    "adata.obs['singular_vector_1'] = ut.min_max(svd.fit_transform(H))\n",
    "\n",
    "# hypergraph centralities\n",
    "hge_functions = {\n",
    "    'hge_logexp_unweighted' : {\n",
    "        'function' : 'log-exp',\n",
    "        'weights' : None,\n",
    "    },\n",
    "    'hge_logexp_RNA_weighted' : {\n",
    "        'function' : 'log-exp',\n",
    "        'weights' : 1 / (adata.obs.loc[H.index, 'RNA_2'].values + 1)\n",
    "    },\n",
    "    'hge_logexp_ATAC_weighted' : {\n",
    "        'function' : 'log-exp',\n",
    "        'weights' : 1 / (adata.obs.loc[H.index, 'ATACSeq_1'].values + 1)\n",
    "    },\n",
    "}\n",
    "\n",
    "\n",
    "hge_centralities = []\n",
    "\n",
    "for label, d in hge_functions.items():\n",
    "    print(f\"Starting {label}....\")\n",
    "    start_time = time.time()  # Record start time\n",
    "    node, edge = central.nonlinear_eigenvector_centrality(\n",
    "        H,\n",
    "        function=d['function'],\n",
    "        node_weights=d['weights'],\n",
    "    )\n",
    "\n",
    "    hge_centralities.append(label)\n",
    "    adata.obs[label] = ut.min_max(node)\n",
    "\n",
    "    end_time = time.time()  # Record end time\n",
    "    print(f\"{label} calculation took: {end_time - start_time:.2f} seconds\")\n",
    "\n",
    "adata"
   ]
  },
  {
   "cell_type": "markdown",
   "id": "2f692821-7f7f-4ab5-b13b-ce34226017f3",
   "metadata": {},
   "source": [
    "# Feature X"
   ]
  },
  {
   "cell_type": "code",
   "execution_count": null,
   "id": "97f7a2ca-467e-452c-b91b-7fca0b2a2638",
   "metadata": {},
   "outputs": [],
   "source": [
    "adata.obs.columns"
   ]
  },
  {
   "cell_type": "code",
   "execution_count": null,
   "id": "afccd907-f1c3-4f19-910d-4b16084233eb",
   "metadata": {},
   "outputs": [],
   "source": [
    "break"
   ]
  },
  {
   "cell_type": "code",
   "execution_count": null,
   "id": "5429c42b-a47f-4c1f-9939-78652ba14ebd",
   "metadata": {},
   "outputs": [],
   "source": [
    "features = [\n",
    "    'degree', 'n_genes', 'ATACSeq_1', 'ATACSeq_2', 'ATACSeq_3',\n",
    "    'CTCF', 'H3K27ac', 'H3K27me3', \n",
    "    'RNA_1', 'RNA_2', 'RNA_3', 'RNA_4', 'RNA_5', 'RNA_6', \n",
    "]\n",
    "adata.obsm['X_feature'] = adata.obs[features]\n",
    "adata"
   ]
  },
  {
   "cell_type": "code",
   "execution_count": null,
   "id": "7bb0ecf4-c2d5-4cca-ac47-22fe1cc3cba5",
   "metadata": {},
   "outputs": [],
   "source": [
    "break"
   ]
  },
  {
   "cell_type": "code",
   "execution_count": null,
   "id": "dcfc4a92-753e-4ff5-a7ff-4e6458ef86ae",
   "metadata": {},
   "outputs": [],
   "source": []
  },
  {
   "cell_type": "markdown",
   "id": "8a44453e-3ba1-43ba-8794-b05c57940cc6",
   "metadata": {},
   "source": [
    "# Cliqiue-expansion"
   ]
  },
  {
   "cell_type": "code",
   "execution_count": null,
   "id": "02e7145a-a403-43e6-a492-d34d53bbd2a8",
   "metadata": {},
   "outputs": [],
   "source": [
    "matrix.expand_and_normalize_anndata(adata)\n",
    "adata"
   ]
  },
  {
   "cell_type": "code",
   "execution_count": null,
   "id": "c0020adf-3c89-4ab6-b909-e50c932d99e3",
   "metadata": {},
   "outputs": [],
   "source": []
  }
 ],
 "metadata": {
  "kernelspec": {
   "display_name": "scanpy",
   "language": "python",
   "name": "scanpy"
  },
  "language_info": {
   "codemirror_mode": {
    "name": "ipython",
    "version": 3
   },
   "file_extension": ".py",
   "mimetype": "text/x-python",
   "name": "python",
   "nbconvert_exporter": "python",
   "pygments_lexer": "ipython3",
   "version": "3.12.5"
  }
 },
 "nbformat": 4,
 "nbformat_minor": 5
}
