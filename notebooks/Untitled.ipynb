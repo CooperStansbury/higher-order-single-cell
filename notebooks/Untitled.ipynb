{
 "cells": [
  {
   "cell_type": "code",
   "execution_count": 2,
   "id": "421b3bef-9190-4c72-b636-19b6b2cea167",
   "metadata": {},
   "outputs": [
    {
     "name": "stdout",
     "output_type": "stream",
     "text": [
      "Dataset ml-100k could not be found. Do you want to download it? [Y/n] "
     ]
    },
    {
     "name": "stdin",
     "output_type": "stream",
     "text": [
      " y\n"
     ]
    },
    {
     "name": "stdout",
     "output_type": "stream",
     "text": [
      "Trying to download dataset from https://files.grouplens.org/datasets/movielens/ml-100k.zip...\n",
      "Done! Dataset ml-100k has been saved to /home/cstansbu/.surprise_data/ml-100k\n",
      "Evaluating RMSE, MAE of algorithm SVD on 5 split(s).\n",
      "\n",
      "                  Fold 1  Fold 2  Fold 3  Fold 4  Fold 5  Mean    Std     \n",
      "RMSE (testset)    0.9441  0.9339  0.9412  0.9336  0.9330  0.9372  0.0046  \n",
      "MAE (testset)     0.7457  0.7375  0.7427  0.7339  0.7342  0.7388  0.0047  \n",
      "Fit time          0.79    0.82    0.81    0.81    0.82    0.81    0.01    \n",
      "Test time         0.09    0.09    0.09    0.24    0.09    0.12    0.06    \n"
     ]
    },
    {
     "data": {
      "text/plain": [
       "{'test_rmse': array([0.94413574, 0.93393088, 0.94116782, 0.93362047, 0.93303479]),\n",
       " 'test_mae': array([0.74568255, 0.73753738, 0.74270891, 0.73390906, 0.7342293 ]),\n",
       " 'fit_time': (0.7940406799316406,\n",
       "  0.815842866897583,\n",
       "  0.8061652183532715,\n",
       "  0.8067271709442139,\n",
       "  0.815638542175293),\n",
       " 'test_time': (0.08632040023803711,\n",
       "  0.08598160743713379,\n",
       "  0.08508753776550293,\n",
       "  0.2432849407196045,\n",
       "  0.09112668037414551)}"
      ]
     },
     "execution_count": 2,
     "metadata": {},
     "output_type": "execute_result"
    }
   ],
   "source": [
    "from surprise import Dataset, SVD\n",
    "from surprise.model_selection import cross_validate\n",
    "\n",
    "\n",
    "# Load the movielens-100k dataset (download it if needed),\n",
    "data = Dataset.load_builtin(\"ml-100k\")\n",
    "\n",
    "# We'll use the famous SVD algorithm.\n",
    "algo = SVD()\n",
    "\n",
    "# Run 5-fold cross-validation and print results\n",
    "cross_validate(algo, data, measures=[\"RMSE\", \"MAE\"], cv=5, verbose=True)"
   ]
  },
  {
   "cell_type": "code",
   "execution_count": null,
   "id": "8361d4de-506f-4d59-a3fb-7a9cb725848f",
   "metadata": {},
   "outputs": [],
   "source": []
  }
 ],
 "metadata": {
  "kernelspec": {
   "display_name": "scanpy",
   "language": "python",
   "name": "scanpy"
  },
  "language_info": {
   "codemirror_mode": {
    "name": "ipython",
    "version": 3
   },
   "file_extension": ".py",
   "mimetype": "text/x-python",
   "name": "python",
   "nbconvert_exporter": "python",
   "pygments_lexer": "ipython3",
   "version": "3.12.5"
  }
 },
 "nbformat": 4,
 "nbformat_minor": 5
}
