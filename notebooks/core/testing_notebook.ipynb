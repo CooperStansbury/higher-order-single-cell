{
 "cells": [
  {
   "cell_type": "code",
   "execution_count": 1,
   "id": "b9004b15-60a7-4ef3-84a0-c45f28459af2",
   "metadata": {},
   "outputs": [
    {
     "name": "stdout",
     "output_type": "stream",
     "text": [
      "/home/machoi/higher-order-single-cell/source\n"
     ]
    }
   ],
   "source": [
    "import homocore as hc"
   ]
  },
  {
   "cell_type": "code",
   "execution_count": 3,
   "id": "e7fa24d9-9dd2-46e0-a3ad-746d436c660c",
   "metadata": {},
   "outputs": [
    {
     "data": {
      "text/plain": [
       "[{3: 0, 4: 1},\n",
       " {3: 0, 4: 2},\n",
       " {3: 0, 4: 3},\n",
       " {3: 0, 4: 4},\n",
       " {3: 1, 4: 0},\n",
       " {3: 1, 4: 2},\n",
       " {3: 1, 4: 3},\n",
       " {3: 1, 4: 4},\n",
       " {3: 2, 4: 0},\n",
       " {3: 2, 4: 1},\n",
       " {3: 2, 4: 3},\n",
       " {3: 2, 4: 4},\n",
       " {3: 3, 4: 0},\n",
       " {3: 3, 4: 1},\n",
       " {3: 3, 4: 2},\n",
       " {3: 3, 4: 4},\n",
       " {3: 4, 4: 0},\n",
       " {3: 4, 4: 1},\n",
       " {3: 4, 4: 2},\n",
       " {3: 4, 4: 3}]"
      ]
     },
     "execution_count": 3,
     "metadata": {},
     "output_type": "execute_result"
    }
   ],
   "source": [
    "mapping_dictionary = {0: 0, 1: 1, 2: 2}\n",
    "missing_keys = [3,4]\n",
    "hc.find_all_mappings(mapping_dictionary, missing_keys)\n",
    "hc.generate_distinct_mappings(hc.find_all_mappings(mapping_dictionary, missing_keys))"
   ]
  },
  {
   "cell_type": "code",
   "execution_count": null,
   "id": "b9fe3512-975b-4df5-9db7-8afdf62b635d",
   "metadata": {},
   "outputs": [],
   "source": []
  },
  {
   "cell_type": "code",
   "execution_count": null,
   "id": "0ae69f52-6d80-4927-a09f-174108dae0df",
   "metadata": {},
   "outputs": [],
   "source": []
  }
 ],
 "metadata": {
  "kernelspec": {
   "display_name": "Python 3 (ipykernel)",
   "language": "python",
   "name": "python3"
  },
  "language_info": {
   "codemirror_mode": {
    "name": "ipython",
    "version": 3
   },
   "file_extension": ".py",
   "mimetype": "text/x-python",
   "name": "python",
   "nbconvert_exporter": "python",
   "pygments_lexer": "ipython3",
   "version": "3.11.7"
  }
 },
 "nbformat": 4,
 "nbformat_minor": 5
}
