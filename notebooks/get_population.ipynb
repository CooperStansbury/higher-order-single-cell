{
 "cells": [
  {
   "cell_type": "code",
   "execution_count": 1,
   "id": "cad3e28e-4cb9-4394-b8f4-d74f87ad5216",
   "metadata": {},
   "outputs": [],
   "source": [
    "import os\n",
    "import sys\n",
    "import pandas as pd\n",
    "import glob"
   ]
  },
  {
   "cell_type": "code",
   "execution_count": 2,
   "id": "3db32e5b-b07d-438a-b3e2-d0617c34ef20",
   "metadata": {},
   "outputs": [
    {
     "data": {
      "text/plain": [
       "['/scratch/indikar_root/indikar1/shared_data/population/align_table/batch04.GRCm39.align_table.parquet',\n",
       " '/scratch/indikar_root/indikar1/shared_data/population/align_table/batch02.GRCm39.align_table.parquet',\n",
       " '/scratch/indikar_root/indikar1/shared_data/population/align_table/batch03.GRCm39.align_table.parquet',\n",
       " '/scratch/indikar_root/indikar1/shared_data/population/align_table/batch01.GRCm39.align_table.parquet']"
      ]
     },
     "execution_count": 2,
     "metadata": {},
     "output_type": "execute_result"
    }
   ],
   "source": [
    "dpath = \"/scratch/indikar_root/indikar1/shared_data/population/align_table/\"\n",
    "file_list = glob.glob(f\"{dpath}*\")\n",
    "file_list\n"
   ]
  },
  {
   "cell_type": "code",
   "execution_count": 37,
   "id": "e5880e29-74ad-4463-ac4f-552e2ed5c2a3",
   "metadata": {},
   "outputs": [],
   "source": [
    "chrom_path = \"/scratch/indikar_root/indikar1/shared_data/higher_order/reference/chrom_sizes.csv\"\n",
    "chrom_df = pd.read_csv(chrom_path)\n",
    "chroms = chrom_df['chrom'].to_list()\n",
    "chrom_starts = dict(zip(chrom_df['chrom'].values, chrom_df['bp_start'].values))"
   ]
  },
  {
   "cell_type": "code",
   "execution_count": 50,
   "id": "b34dacf2-7954-4519-89cd-54487c44a38b",
   "metadata": {},
   "outputs": [
    {
     "name": "stdout",
     "output_type": "stream",
     "text": [
      "df.shape=(5914688, 8)\n",
      "df.shape=(614841, 8)\n",
      "df.shape=(3086265, 8)\n",
      "df.shape=(5194444, 8)\n",
      "result.shape=(14810238, 8)\n"
     ]
    },
    {
     "data": {
      "text/html": [
       "<div>\n",
       "<style scoped>\n",
       "    .dataframe tbody tr th:only-of-type {\n",
       "        vertical-align: middle;\n",
       "    }\n",
       "\n",
       "    .dataframe tbody tr th {\n",
       "        vertical-align: top;\n",
       "    }\n",
       "\n",
       "    .dataframe thead th {\n",
       "        text-align: right;\n",
       "    }\n",
       "</style>\n",
       "<table border=\"1\" class=\"dataframe\">\n",
       "  <thead>\n",
       "    <tr style=\"text-align: right;\">\n",
       "      <th></th>\n",
       "      <th>read_name</th>\n",
       "      <th>chrom</th>\n",
       "      <th>ref_start</th>\n",
       "      <th>ref_end</th>\n",
       "      <th>basename</th>\n",
       "      <th>local_position</th>\n",
       "      <th>global_position</th>\n",
       "      <th>order</th>\n",
       "    </tr>\n",
       "  </thead>\n",
       "  <tbody>\n",
       "    <tr>\n",
       "      <th>0</th>\n",
       "      <td>00000202-49cf-47b2-83bf-5eb3f6d98373</td>\n",
       "      <td>10</td>\n",
       "      <td>79553913</td>\n",
       "      <td>79554361</td>\n",
       "      <td>batch04</td>\n",
       "      <td>79554137</td>\n",
       "      <td>1473898218</td>\n",
       "      <td>4</td>\n",
       "    </tr>\n",
       "    <tr>\n",
       "      <th>1</th>\n",
       "      <td>00000202-49cf-47b2-83bf-5eb3f6d98373</td>\n",
       "      <td>10</td>\n",
       "      <td>79553679</td>\n",
       "      <td>79553895</td>\n",
       "      <td>batch04</td>\n",
       "      <td>79553787</td>\n",
       "      <td>1473897868</td>\n",
       "      <td>4</td>\n",
       "    </tr>\n",
       "    <tr>\n",
       "      <th>2</th>\n",
       "      <td>00000202-49cf-47b2-83bf-5eb3f6d98373</td>\n",
       "      <td>10</td>\n",
       "      <td>79553496</td>\n",
       "      <td>79553677</td>\n",
       "      <td>batch04</td>\n",
       "      <td>79553586</td>\n",
       "      <td>1473897667</td>\n",
       "      <td>4</td>\n",
       "    </tr>\n",
       "    <tr>\n",
       "      <th>3</th>\n",
       "      <td>00000202-49cf-47b2-83bf-5eb3f6d98373</td>\n",
       "      <td>10</td>\n",
       "      <td>79552809</td>\n",
       "      <td>79553496</td>\n",
       "      <td>batch04</td>\n",
       "      <td>79553152</td>\n",
       "      <td>1473897233</td>\n",
       "      <td>4</td>\n",
       "    </tr>\n",
       "    <tr>\n",
       "      <th>6</th>\n",
       "      <td>0000131a-4f27-4dc5-839d-09720b024db9</td>\n",
       "      <td>4</td>\n",
       "      <td>45374671</td>\n",
       "      <td>45374875</td>\n",
       "      <td>batch04</td>\n",
       "      <td>45374773</td>\n",
       "      <td>582029385</td>\n",
       "      <td>4</td>\n",
       "    </tr>\n",
       "  </tbody>\n",
       "</table>\n",
       "</div>"
      ],
      "text/plain": [
       "                              read_name chrom  ref_start   ref_end basename  \\\n",
       "0  00000202-49cf-47b2-83bf-5eb3f6d98373    10   79553913  79554361  batch04   \n",
       "1  00000202-49cf-47b2-83bf-5eb3f6d98373    10   79553679  79553895  batch04   \n",
       "2  00000202-49cf-47b2-83bf-5eb3f6d98373    10   79553496  79553677  batch04   \n",
       "3  00000202-49cf-47b2-83bf-5eb3f6d98373    10   79552809  79553496  batch04   \n",
       "6  0000131a-4f27-4dc5-839d-09720b024db9     4   45374671  45374875  batch04   \n",
       "\n",
       "   local_position  global_position  order  \n",
       "0        79554137       1473898218      4  \n",
       "1        79553787       1473897868      4  \n",
       "2        79553586       1473897667      4  \n",
       "3        79553152       1473897233      4  \n",
       "6        45374773        582029385      4  "
      ]
     },
     "execution_count": 50,
     "metadata": {},
     "output_type": "execute_result"
    }
   ],
   "source": [
    "read_columns = [\n",
    "    'read_name',\n",
    "    'chrom', \n",
    "    'ref_start', \n",
    "    'ref_end',\n",
    "    'is_mapped',\n",
    "]\n",
    "     \n",
    "result = []\n",
    "for fpath in file_list:\n",
    "    basename = os.path.basename(fpath).split(\".\")[0]\n",
    "    df = pd.read_parquet(fpath, columns=read_columns)\n",
    "\n",
    "    # Filtering & Transformations\n",
    "    df = (\n",
    "        df[df['is_mapped']]\n",
    "        .loc[df['chrom'].isin(chroms)]\n",
    "        .assign(\n",
    "            basename        = basename,\n",
    "            local_position  = lambda df: (((df['ref_end'] - df['ref_start']) // 2) + df['ref_start']).astype(int),\n",
    "            chrom_start     = lambda df: df['chrom'].map(chrom_starts),\n",
    "            global_position = lambda df: df['chrom_start'].astype(int) + df['local_position'].astype(int),\n",
    "        )\n",
    "        .dropna(subset=['global_position'])\n",
    "        .drop_duplicates()\n",
    "        .drop(columns=['is_mapped', 'chrom_start'])\n",
    "    )\n",
    "    \n",
    "    df['ref_start'] = df['ref_start'].astype(int)\n",
    "    df['ref_end'] = df['ref_end'].astype(int)\n",
    "    \n",
    "    # calculate order and drop singletons efficiently\n",
    "    df['order'] = df.groupby('read_name')['chrom'].transform('count')\n",
    "    df = df[df['order'] > 1]\n",
    "    result.append(df)\n",
    "    \n",
    "result = pd.concat(result)\n",
    "print(f\"{result.shape=}\")\n",
    "result.head()"
   ]
  },
  {
   "cell_type": "code",
   "execution_count": null,
   "id": "7b90a64e-0777-43c4-b5ac-520536eb2b24",
   "metadata": {},
   "outputs": [],
   "source": []
  }
 ],
 "metadata": {
  "kernelspec": {
   "display_name": "higher_order",
   "language": "python",
   "name": "higher_order"
  },
  "language_info": {
   "codemirror_mode": {
    "name": "ipython",
    "version": 3
   },
   "file_extension": ".py",
   "mimetype": "text/x-python",
   "name": "python",
   "nbconvert_exporter": "python",
   "pygments_lexer": "ipython3",
   "version": "3.12.3"
  }
 },
 "nbformat": 4,
 "nbformat_minor": 5
}
